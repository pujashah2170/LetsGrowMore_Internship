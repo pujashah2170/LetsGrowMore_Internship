{
  "cells": [
    {
      "cell_type": "markdown",
      "source": [
        " ## **LetsGrowMore-Data Science Virtual Internship**\n",
        " #### **Advanced Level**\n",
        " #### **Task 1- Develope A Neural Network That Can Read Handwriting**\n",
        " #### **Author-**\n",
        " #### **Puja Niranjan Shah**"
      ],
      "metadata": {
        "id": "BB8gX9lG6Rvp"
      }
    },
    {
      "cell_type": "code",
      "execution_count": null,
      "metadata": {
        "id": "2hFbdRaEeIHS"
      },
      "outputs": [],
      "source": [
        "import numpy as np\n",
        "import pandas as pd\n",
        "import matplotlib.pyplot as plt"
      ]
    },
    {
      "cell_type": "code",
      "source": [
        "import tensorflow as tf\n",
        "from tensorflow import keras"
      ],
      "metadata": {
        "id": "iNwU53vvyFpQ"
      },
      "execution_count": null,
      "outputs": []
    },
    {
      "cell_type": "code",
      "source": [
        "from keras.datasets import mnist\n",
        "mnist=mnist.load_data()\n",
        "(x_train_full,y_train_full),(x_test,y_test)=mnist"
      ],
      "metadata": {
        "colab": {
          "base_uri": "https://localhost:8080/"
        },
        "id": "p2OtCtCG3B-L",
        "outputId": "1e313fc6-e224-47c7-f0a6-b832d839f8da"
      },
      "execution_count": null,
      "outputs": [
        {
          "output_type": "stream",
          "name": "stdout",
          "text": [
            "Downloading data from https://storage.googleapis.com/tensorflow/tf-keras-datasets/mnist.npz\n",
            "11490434/11490434 [==============================] - 0s 0us/step\n"
          ]
        }
      ]
    },
    {
      "cell_type": "code",
      "source": [
        "print('x train data size'+str(x_train_full.shape))\n",
        "print('x test data size'+str(x_test.shape))"
      ],
      "metadata": {
        "colab": {
          "base_uri": "https://localhost:8080/"
        },
        "id": "LWON3ou_PN_Q",
        "outputId": "6ba57ab7-b71b-48d1-bc7f-20e9d461475f"
      },
      "execution_count": null,
      "outputs": [
        {
          "output_type": "stream",
          "name": "stdout",
          "text": [
            "x train data size(60000, 28, 28)\n",
            "x test data size(10000, 28, 28)\n"
          ]
        }
      ]
    },
    {
      "cell_type": "code",
      "source": [
        "plt.imshow(x_train_full[50])"
      ],
      "metadata": {
        "colab": {
          "base_uri": "https://localhost:8080/",
          "height": 447
        },
        "id": "Oa6aHIk5ztuM",
        "outputId": "20629b83-a198-4642-f851-3ab8e3c6d26b"
      },
      "execution_count": null,
      "outputs": [
        {
          "output_type": "execute_result",
          "data": {
            "text/plain": [
              "<matplotlib.image.AxesImage at 0x7fd810f78f70>"
            ]
          },
          "metadata": {},
          "execution_count": 5
        },
        {
          "output_type": "display_data",
          "data": {
            "text/plain": [
              "<Figure size 640x480 with 1 Axes>"
            ],
            "image/png": "[encoded data removed]"
          },
          "metadata": {}
        }
      ]
    },
    {
      "cell_type": "code",
      "source": [
        "y_train_full[50]"
      ],
      "metadata": {
        "colab": {
          "base_uri": "https://localhost:8080/"
        },
        "id": "LTaqp_ye1KDl",
        "outputId": "53ed4a4c-3816-42aa-8c2c-a48f14288675"
      },
      "execution_count": null,
      "outputs": [
        {
          "output_type": "execute_result",
          "data": {
            "text/plain": [
              "3"
            ]
          },
          "metadata": {},
          "execution_count": 6
        }
      ]
    },
    {
      "cell_type": "code",
      "source": [
        "digit_names=[\"Zero\",\"One\",\"Two\",\"Three\",\"Four\",\"Five\",\"Six\",\"Seven\",\"Eight\",\"Nine\"]\n",
        "digit_names[y_train_full[50]]"
      ],
      "metadata": {
        "id": "7RIl-OJ_1Phe",
        "colab": {
          "base_uri": "https://localhost:8080/",
          "height": 35
        },
        "outputId": "a0c6449a-8daf-4548-cdad-3bdee86820c9"
      },
      "execution_count": null,
      "outputs": [
        {
          "output_type": "execute_result",
          "data": {
            "text/plain": [
              "'Three'"
            ],
            "application/vnd.google.colaboratory.intrinsic+json": {
              "type": "string"
            }
          },
          "metadata": {},
          "execution_count": 7
        }
      ]
    },
    {
      "cell_type": "code",
      "source": [
        "x_train_full[50]"
      ],
      "metadata": {
        "id": "eeS9_VEj3JQY",
        "colab": {
          "base_uri": "https://localhost:8080/"
        },
        "outputId": "2a6c488e-2b4d-4231-ab59-46f8c367c1ee"
      },
      "execution_count": null,
      "outputs": [
        {
          "output_type": "execute_result",
          "data": {
            "text/plain": [
              "array([[  0,   0,   0,   0,   0,   0,   0,   0,   0,   0,   0,   0,   0,\n",
              "          0,   0,   0,   0,   0,   0,   0,   0,   0,   0,   0,   0,   0,\n",
              "          0,   0],\n",
              "       [  0,   0,   0,   0,   0,   0,   0,   0,   0,   0,   0,   0,   0,\n",
              "          0,   0,   0,   0,   0,   0,   0,   0,   0,   0,   0,   0,   0,\n",
              "          0,   0],\n",
              "       [  0,   0,   0,   0,   0,   0,   0,   0,   0,   0,   0,   0,   0,\n",
              "          0,   0,   0,   0,   0,   0,   0,   0,   0,   0,   0,   0,   0,\n",
              "          0,   0],\n",
              "       [  0,   0,   0,   0,   0,   0,   0,   0,   0,   0,   0,   0,   0,\n",
              "          0,   0,   0,   0,   0,   0,   0,   0,   0,   0,   0,   0,   0,\n",
              "          0,   0],\n",
              "       [  0,   0,   0,   0,   0,   0,   0,   0,   0,   0,  12,  56, 140,\n",
              "        126, 175, 200,  96,   2,   0,   0,   0,   0,   0,   0,   0,   0,\n",
              "          0,   0],\n",
              "       [  0,   0,   0,   0,   0,   0,   0,   0,  35, 166, 238, 254, 246,\n",
              "        242, 253, 246, 254,  67,   0,   0,   0,   0,   0,   0,   0,   0,\n",
              "          0,   0],\n",
              "       [  0,   0,   0,   0,   0,   0,   0,   0, 184, 182, 146, 127,  70,\n",
              "         30,  45,  36, 215, 175,   0,   0,   0,   0,   0,   0,   0,   0,\n",
              "          0,   0],\n",
              "       [  0,   0,   0,   0,   0,   0,   0,   0,  30,   0,   0,   0,   0,\n",
              "          0,   0,   0, 207, 246,  14,   0,   0,   0,   0,   0,   0,   0,\n",
              "          0,   0],\n",
              "       [  0,   0,   0,   0,   0,   0,   0,   0,   0,   0,   0,   0,   0,\n",
              "          0,   0,  55, 251, 169,   1,   0,   0,   0,   0,   0,   0,   0,\n",
              "          0,   0],\n",
              "       [  0,   0,   0,   0,   0,   0,   0,   0,   0,   0,   0,   0,   0,\n",
              "          0,  11, 215, 232,  20,   0,   0,   0,   0,   0,   0,   0,   0,\n",
              "          0,   0],\n",
              "       [  0,   0,   0,   0,   0,   0,   0,   0,   0,   0,   0,   0,   0,\n",
              "         20, 190, 250,  61,   0,   0,   0,   0,   0,   0,   0,   0,   0,\n",
              "          0,   0],\n",
              "       [  0,   0,   0,   0,   0,   0,   0,   0,   0,   0,   0,  24, 118,\n",
              "        206, 254, 248, 142, 108,  18,   0,   0,   0,   0,   0,   0,   0,\n",
              "          0,   0],\n",
              "       [  0,   0,   0,   0,   0,   0,   0,   0,   0,   0,  63, 223, 254,\n",
              "        254, 254, 254, 254, 254, 209,   0,   0,   0,   0,   0,   0,   0,\n",
              "          0,   0],\n",
              "       [  0,   0,   0,   0,   0,   0,   0,   0,   0,   0,  52, 174, 129,\n",
              "         95,  16,  16,  16, 106, 249, 125,   0,   0,   0,   0,   0,   0,\n",
              "          0,   0],\n",
              "       [  0,   0,   0,   0,   0,   0,   0,   0,   0,   0,   0,   0,   0,\n",
              "          0,   0,   0,   0,   0, 179, 239,   0,   0,   0,   0,   0,   0,\n",
              "          0,   0],\n",
              "       [  0,   0,   0,   0,   0,   0,   0,   0,   0,   0,   0,   0,   0,\n",
              "          0,   0,   0,   0,   0,  80, 239,   0,   0,   0,   0,   0,   0,\n",
              "          0,   0],\n",
              "       [  0,   0,   0,   0,   0,   0,   0,   0,   0,   0,   0,   0,   0,\n",
              "          0,   0,   0,   0,   0,  80, 244,  20,   0,   0,   0,   0,   0,\n",
              "          0,   0],\n",
              "       [  0,   0,   0,   0,   0,   0,   0,   0,   0,   0,   0,   0,   0,\n",
              "          0,   0,   0,   0,   0, 100, 239,   0,   0,   0,   0,   0,   0,\n",
              "          0,   0],\n",
              "       [  0,   0,   0,   0,   0,   0,   0,   0,   0,   0,   0,   0,   0,\n",
              "          0,   0,   0,   0,   0, 234, 239,   0,   0,   0,   0,   0,   0,\n",
              "          0,   0],\n",
              "       [  0,   0,   0,   0,   0,   0,   0,   4, 140,   5,   0,   0,   0,\n",
              "          0,   0,   0,   3, 150, 254, 129,   0,   0,   0,   0,   0,   0,\n",
              "          0,   0],\n",
              "       [  0,   0,   0,   0,   0,   0,   0,  64, 254, 181,  38,   0,   0,\n",
              "          0,   0,  34, 188, 254, 209,  20,   0,   0,   0,   0,   0,   0,\n",
              "          0,   0],\n",
              "       [  0,   0,   0,   0,   0,   0,   0,  12, 226, 255, 223,  88,  68,\n",
              "        128, 157, 242, 254, 207,  23,   0,   0,   0,   0,   0,   0,   0,\n",
              "          0,   0],\n",
              "       [  0,   0,   0,   0,   0,   0,   0,   0,  45, 210, 254, 254, 254,\n",
              "        254, 255, 254, 187,  49,   0,   0,   0,   0,   0,   0,   0,   0,\n",
              "          0,   0],\n",
              "       [  0,   0,   0,   0,   0,   0,   0,   0,   0,  41, 129, 239, 229,\n",
              "        179,  91,  16,   3,   0,   0,   0,   0,   0,   0,   0,   0,   0,\n",
              "          0,   0],\n",
              "       [  0,   0,   0,   0,   0,   0,   0,   0,   0,   0,   0,   0,   0,\n",
              "          0,   0,   0,   0,   0,   0,   0,   0,   0,   0,   0,   0,   0,\n",
              "          0,   0],\n",
              "       [  0,   0,   0,   0,   0,   0,   0,   0,   0,   0,   0,   0,   0,\n",
              "          0,   0,   0,   0,   0,   0,   0,   0,   0,   0,   0,   0,   0,\n",
              "          0,   0],\n",
              "       [  0,   0,   0,   0,   0,   0,   0,   0,   0,   0,   0,   0,   0,\n",
              "          0,   0,   0,   0,   0,   0,   0,   0,   0,   0,   0,   0,   0,\n",
              "          0,   0],\n",
              "       [  0,   0,   0,   0,   0,   0,   0,   0,   0,   0,   0,   0,   0,\n",
              "          0,   0,   0,   0,   0,   0,   0,   0,   0,   0,   0,   0,   0,\n",
              "          0,   0]], dtype=uint8)"
            ]
          },
          "metadata": {},
          "execution_count": 8
        }
      ]
    },
    {
      "cell_type": "markdown",
      "source": [
        "## Data Normalization:-\n",
        "We normalize the dataset dimensions so that they are of equal scale.\n",
        "## Splitting dataset:-\n",
        "* Training data-It is used for training the model\n",
        "* Validation data-It is used for tunning the hyperparameters and evalute the model\n",
        "*Test Data-It is used for test the model after the model gone through the initial verifying by the validation set"
      ],
      "metadata": {
        "id": "gXaXylZ9zqig"
      }
    },
    {
      "cell_type": "code",
      "source": [
        "x_train_n=x_train_full/255.\n",
        "x_test_n=x_test/255."
      ],
      "metadata": {
        "id": "hOxuRve8K0cb"
      },
      "execution_count": null,
      "outputs": []
    },
    {
      "cell_type": "code",
      "source": [
        "x_valid,x_train=x_train_n[:5000],x_train_n[5000:]\n",
        "y_valid,y_train=y_train_full[:5000],y_train_full[5000:]\n",
        "x_test=x_test_n"
      ],
      "metadata": {
        "id": "B6_x0RtwLHuw"
      },
      "execution_count": null,
      "outputs": []
    },
    {
      "cell_type": "code",
      "source": [
        "np.random.seed(42)\n",
        "tf.random.set_seed(42)"
      ],
      "metadata": {
        "id": "zsN3cSrPO3Hz"
      },
      "execution_count": null,
      "outputs": []
    },
    {
      "cell_type": "code",
      "source": [
        "model=keras.models.Sequential()\n",
        "model.add(keras.layers.Flatten(input_shape=[28,28]))\n",
        "model.add(keras.layers.Dense(300,activation=\"relu\"))\n",
        "model.add(keras.layers.Dense(100,activation=\"relu\"))\n",
        "model.add(keras.layers.Dense(10,activation=\"softmax\"))"
      ],
      "metadata": {
        "id": "dD-sFfkNRco9"
      },
      "execution_count": null,
      "outputs": []
    },
    {
      "cell_type": "code",
      "source": [
        "model.summary()"
      ],
      "metadata": {
        "colab": {
          "base_uri": "https://localhost:8080/"
        },
        "id": "l7OOOkNASmNA",
        "outputId": "83e46f05-af5a-4c81-8eda-13e8177a35a6"
      },
      "execution_count": null,
      "outputs": [
        {
          "output_type": "stream",
          "name": "stdout",
          "text": [
            "Model: \"sequential\"\n",
            "_________________________________________________________________\n",
            " Layer (type)                Output Shape              Param #   \n",
            "=================================================================\n",
            " flatten (Flatten)           (None, 784)               0         \n",
            "                                                                 \n",
            " dense (Dense)               (None, 300)               235500    \n",
            "                                                                 \n",
            " dense_1 (Dense)             (None, 100)               30100     \n",
            "                                                                 \n",
            " dense_2 (Dense)             (None, 10)                1010      \n",
            "                                                                 \n",
            "=================================================================\n",
            "Total params: 266,610\n",
            "Trainable params: 266,610\n",
            "Non-trainable params: 0\n",
            "_________________________________________________________________\n"
          ]
        }
      ]
    },
    {
      "cell_type": "code",
      "source": [
        "import pydot\n",
        "keras.utils.plot_model(model)"
      ],
      "metadata": {
        "colab": {
          "base_uri": "https://localhost:8080/",
          "height": 466
        },
        "id": "NUriE4ykpWlr",
        "outputId": "ff91ec5a-1b08-41f4-f356-74982da8786f"
      },
      "execution_count": null,
      "outputs": [
        {
          "output_type": "execute_result",
          "data": {
            "image/png": "[encoded data removed]",
            "text/plain": [
              "<IPython.core.display.Image object>"
            ]
          },
          "metadata": {},
          "execution_count": 14
        }
      ]
    },
    {
      "cell_type": "code",
      "source": [
        "weight,bias=model.layers[1].get_weights()\n",
        "weight"
      ],
      "metadata": {
        "id": "EGy_Fw4sqd73",
        "colab": {
          "base_uri": "https://localhost:8080/"
        },
        "outputId": "24284fb7-002d-4a5b-b22d-019bb80c80a2"
      },
      "execution_count": null,
      "outputs": [
        {
          "output_type": "execute_result",
          "data": {
            "text/plain": [
              "array([[ 0.05479155, -0.06214104,  0.05555448, ..., -0.00864245,\n",
              "         0.02445344,  0.05375543],\n",
              "       [-0.00631714, -0.02024253,  0.02529898, ..., -0.03369479,\n",
              "        -0.01662347, -0.04090296],\n",
              "       [-0.04855906,  0.00951152, -0.00845964, ..., -0.01121172,\n",
              "         0.05478677, -0.00905977],\n",
              "       ...,\n",
              "       [ 0.05056956,  0.06888172,  0.01150145, ...,  0.01264115,\n",
              "         0.03374341, -0.04627331],\n",
              "       [ 0.07313083,  0.02197655, -0.030903  , ...,  0.00852238,\n",
              "        -0.04936193, -0.02784079],\n",
              "       [ 0.04692163, -0.07093919,  0.03352692, ...,  0.04923671,\n",
              "        -0.03432257,  0.00813729]], dtype=float32)"
            ]
          },
          "metadata": {},
          "execution_count": 15
        }
      ]
    },
    {
      "cell_type": "code",
      "source": [
        "model.compile(loss=\"sparse_categorical_crossentropy\",\n",
        "              optimizer=\"sgd\",\n",
        "              metrics=[\"accuracy\"])\n",
        "model_history = model.fit(x_train,y_train,epochs=30,\n",
        "                        validation_data=(x_valid,y_valid))"
      ],
      "metadata": {
        "id": "oXzSuURjsVGz",
        "colab": {
          "base_uri": "https://localhost:8080/"
        },
        "outputId": "9c95195b-911a-4073-acbc-74003dafbc33"
      },
      "execution_count": null,
      "outputs": [
        {
          "output_type": "stream",
          "name": "stdout",
          "text": [
            "Epoch 1/30\n",
            "1719/1719 [==============================] - 8s 4ms/step - loss: 0.6159 - accuracy: 0.8435 - val_loss: 0.3007 - val_accuracy: 0.9146\n",
            "Epoch 2/30\n",
            "1719/1719 [==============================] - 6s 3ms/step - loss: 0.2814 - accuracy: 0.9187 - val_loss: 0.2342 - val_accuracy: 0.9342\n",
            "Epoch 3/30\n",
            "1719/1719 [==============================] - 7s 4ms/step - loss: 0.2286 - accuracy: 0.9343 - val_loss: 0.1952 - val_accuracy: 0.9464\n",
            "Epoch 4/30\n",
            "1719/1719 [==============================] - 6s 3ms/step - loss: 0.1952 - accuracy: 0.9445 - val_loss: 0.1747 - val_accuracy: 0.9524\n",
            "Epoch 5/30\n",
            "1719/1719 [==============================] - 7s 4ms/step - loss: 0.1712 - accuracy: 0.9510 - val_loss: 0.1558 - val_accuracy: 0.9570\n",
            "Epoch 6/30\n",
            "1719/1719 [==============================] - 7s 4ms/step - loss: 0.1523 - accuracy: 0.9561 - val_loss: 0.1447 - val_accuracy: 0.9610\n",
            "Epoch 7/30\n",
            "1719/1719 [==============================] - 7s 4ms/step - loss: 0.1368 - accuracy: 0.9610 - val_loss: 0.1329 - val_accuracy: 0.9634\n",
            "Epoch 8/30\n",
            "1719/1719 [==============================] - 6s 4ms/step - loss: 0.1240 - accuracy: 0.9643 - val_loss: 0.1263 - val_accuracy: 0.9626\n",
            "Epoch 9/30\n",
            "1719/1719 [==============================] - 7s 4ms/step - loss: 0.1133 - accuracy: 0.9679 - val_loss: 0.1186 - val_accuracy: 0.9660\n",
            "Epoch 10/30\n",
            "1719/1719 [==============================] - 6s 3ms/step - loss: 0.1043 - accuracy: 0.9706 - val_loss: 0.1090 - val_accuracy: 0.9672\n",
            "Epoch 11/30\n",
            "1719/1719 [==============================] - 7s 4ms/step - loss: 0.0959 - accuracy: 0.9726 - val_loss: 0.1059 - val_accuracy: 0.9694\n",
            "Epoch 12/30\n",
            "1719/1719 [==============================] - 7s 4ms/step - loss: 0.0887 - accuracy: 0.9752 - val_loss: 0.1011 - val_accuracy: 0.9706\n",
            "Epoch 13/30\n",
            "1719/1719 [==============================] - 7s 4ms/step - loss: 0.0824 - accuracy: 0.9769 - val_loss: 0.0967 - val_accuracy: 0.9720\n",
            "Epoch 14/30\n",
            "1719/1719 [==============================] - 7s 4ms/step - loss: 0.0766 - accuracy: 0.9790 - val_loss: 0.0944 - val_accuracy: 0.9712\n",
            "Epoch 15/30\n",
            "1719/1719 [==============================] - 6s 4ms/step - loss: 0.0713 - accuracy: 0.9807 - val_loss: 0.0892 - val_accuracy: 0.9730\n",
            "Epoch 16/30\n",
            "1719/1719 [==============================] - 8s 5ms/step - loss: 0.0666 - accuracy: 0.9821 - val_loss: 0.0877 - val_accuracy: 0.9734\n",
            "Epoch 17/30\n",
            "1719/1719 [==============================] - 6s 4ms/step - loss: 0.0623 - accuracy: 0.9834 - val_loss: 0.0857 - val_accuracy: 0.9738\n",
            "Epoch 18/30\n",
            "1719/1719 [==============================] - 7s 4ms/step - loss: 0.0586 - accuracy: 0.9844 - val_loss: 0.0829 - val_accuracy: 0.9760\n",
            "Epoch 19/30\n",
            "1719/1719 [==============================] - 6s 4ms/step - loss: 0.0548 - accuracy: 0.9858 - val_loss: 0.0806 - val_accuracy: 0.9740\n",
            "Epoch 20/30\n",
            "1719/1719 [==============================] - 7s 4ms/step - loss: 0.0516 - accuracy: 0.9862 - val_loss: 0.0820 - val_accuracy: 0.9748\n",
            "Epoch 21/30\n",
            "1719/1719 [==============================] - 6s 3ms/step - loss: 0.0486 - accuracy: 0.9876 - val_loss: 0.0765 - val_accuracy: 0.9764\n",
            "Epoch 22/30\n",
            "1719/1719 [==============================] - 7s 4ms/step - loss: 0.0456 - accuracy: 0.9878 - val_loss: 0.0767 - val_accuracy: 0.9774\n",
            "Epoch 23/30\n",
            "1719/1719 [==============================] - 6s 4ms/step - loss: 0.0430 - accuracy: 0.9891 - val_loss: 0.0785 - val_accuracy: 0.9766\n",
            "Epoch 24/30\n",
            "1719/1719 [==============================] - 7s 4ms/step - loss: 0.0405 - accuracy: 0.9899 - val_loss: 0.0769 - val_accuracy: 0.9758\n",
            "Epoch 25/30\n",
            "1719/1719 [==============================] - 6s 4ms/step - loss: 0.0383 - accuracy: 0.9904 - val_loss: 0.0731 - val_accuracy: 0.9764\n",
            "Epoch 26/30\n",
            "1719/1719 [==============================] - 7s 4ms/step - loss: 0.0359 - accuracy: 0.9912 - val_loss: 0.0730 - val_accuracy: 0.9768\n",
            "Epoch 27/30\n",
            "1719/1719 [==============================] - 6s 3ms/step - loss: 0.0341 - accuracy: 0.9915 - val_loss: 0.0716 - val_accuracy: 0.9782\n",
            "Epoch 28/30\n",
            "1719/1719 [==============================] - 7s 4ms/step - loss: 0.0323 - accuracy: 0.9921 - val_loss: 0.0730 - val_accuracy: 0.9788\n",
            "Epoch 29/30\n",
            "1719/1719 [==============================] - 6s 3ms/step - loss: 0.0303 - accuracy: 0.9929 - val_loss: 0.0720 - val_accuracy: 0.9788\n",
            "Epoch 30/30\n",
            "1719/1719 [==============================] - 7s 4ms/step - loss: 0.0286 - accuracy: 0.9937 - val_loss: 0.0711 - val_accuracy: 0.9786\n"
          ]
        }
      ]
    },
    {
      "cell_type": "code",
      "source": [
        "model.history.params"
      ],
      "metadata": {
        "colab": {
          "base_uri": "https://localhost:8080/"
        },
        "id": "wxSpzVw2wmy3",
        "outputId": "6c767b3f-2ab1-4c17-8e24-dcdf42bf6286"
      },
      "execution_count": null,
      "outputs": [
        {
          "output_type": "execute_result",
          "data": {
            "text/plain": [
              "{'verbose': 1, 'epochs': 30, 'steps': 1719}"
            ]
          },
          "metadata": {},
          "execution_count": 17
        }
      ]
    },
    {
      "cell_type": "code",
      "source": [
        "model.history.history"
      ],
      "metadata": {
        "colab": {
          "base_uri": "https://localhost:8080/"
        },
        "id": "UCx7Ynt4wvxm",
        "outputId": "bb5f35c5-d5c8-4ecb-e4bf-cf3d93310c87"
      },
      "execution_count": null,
      "outputs": [
        {
          "output_type": "execute_result",
          "data": {
            "text/plain": [
              "{'loss': [0.6159003973007202,\n",
              "  0.28140708804130554,\n",
              "  0.22863107919692993,\n",
              "  0.1951971799135208,\n",
              "  0.17124943435192108,\n",
              "  0.15232542157173157,\n",
              "  0.13681794703006744,\n",
              "  0.12399131059646606,\n",
              "  0.11332527548074722,\n",
              "  0.10433632880449295,\n",
              "  0.09586861729621887,\n",
              "  0.08870736509561539,\n",
              "  0.08236788213253021,\n",
              "  0.07661818712949753,\n",
              "  0.07129943370819092,\n",
              "  0.06664125621318817,\n",
              "  0.062347572296857834,\n",
              "  0.058553822338581085,\n",
              "  0.054809391498565674,\n",
              "  0.05160070210695267,\n",
              "  0.048560574650764465,\n",
              "  0.04564487189054489,\n",
              "  0.0430384986102581,\n",
              "  0.04047808051109314,\n",
              "  0.038283150643110275,\n",
              "  0.035948146134614944,\n",
              "  0.03414659574627876,\n",
              "  0.03227965533733368,\n",
              "  0.03026626817882061,\n",
              "  0.028594613075256348],\n",
              " 'accuracy': [0.8435272574424744,\n",
              "  0.9186909198760986,\n",
              "  0.9342727065086365,\n",
              "  0.9445090889930725,\n",
              "  0.9509999752044678,\n",
              "  0.9560545682907104,\n",
              "  0.9610000252723694,\n",
              "  0.9643272757530212,\n",
              "  0.9678727388381958,\n",
              "  0.9706000089645386,\n",
              "  0.9725818037986755,\n",
              "  0.9751999974250793,\n",
              "  0.9769272804260254,\n",
              "  0.9789999723434448,\n",
              "  0.9806545376777649,\n",
              "  0.9820545315742493,\n",
              "  0.9833999872207642,\n",
              "  0.9843817949295044,\n",
              "  0.98580002784729,\n",
              "  0.9861817955970764,\n",
              "  0.9876182079315186,\n",
              "  0.9878363609313965,\n",
              "  0.9891090989112854,\n",
              "  0.9898545742034912,\n",
              "  0.9903636574745178,\n",
              "  0.9912363886833191,\n",
              "  0.9914727210998535,\n",
              "  0.9921091198921204,\n",
              "  0.9929454326629639,\n",
              "  0.9937272667884827],\n",
              " 'val_loss': [0.3006841242313385,\n",
              "  0.23421326279640198,\n",
              "  0.195236936211586,\n",
              "  0.17465320229530334,\n",
              "  0.15577681362628937,\n",
              "  0.1447044461965561,\n",
              "  0.1329302191734314,\n",
              "  0.12625370919704437,\n",
              "  0.1185503751039505,\n",
              "  0.10902999341487885,\n",
              "  0.1058729887008667,\n",
              "  0.10108048468828201,\n",
              "  0.09665416926145554,\n",
              "  0.09439297020435333,\n",
              "  0.08921632170677185,\n",
              "  0.08774545043706894,\n",
              "  0.08565594255924225,\n",
              "  0.08287748694419861,\n",
              "  0.08055957406759262,\n",
              "  0.08203167468309402,\n",
              "  0.07647068053483963,\n",
              "  0.07669490575790405,\n",
              "  0.07853008806705475,\n",
              "  0.07693193852901459,\n",
              "  0.07313971221446991,\n",
              "  0.07302235066890717,\n",
              "  0.07159487903118134,\n",
              "  0.07295779138803482,\n",
              "  0.07197066396474838,\n",
              "  0.07108739763498306],\n",
              " 'val_accuracy': [0.9146000146865845,\n",
              "  0.9341999888420105,\n",
              "  0.946399986743927,\n",
              "  0.9524000287055969,\n",
              "  0.9570000171661377,\n",
              "  0.9610000252723694,\n",
              "  0.9634000062942505,\n",
              "  0.9625999927520752,\n",
              "  0.9660000205039978,\n",
              "  0.967199981212616,\n",
              "  0.9693999886512756,\n",
              "  0.9706000089645386,\n",
              "  0.972000002861023,\n",
              "  0.9711999893188477,\n",
              "  0.9729999899864197,\n",
              "  0.9733999967575073,\n",
              "  0.973800003528595,\n",
              "  0.9760000109672546,\n",
              "  0.9739999771118164,\n",
              "  0.9747999906539917,\n",
              "  0.9764000177383423,\n",
              "  0.977400004863739,\n",
              "  0.9765999913215637,\n",
              "  0.9757999777793884,\n",
              "  0.9764000177383423,\n",
              "  0.9768000245094299,\n",
              "  0.9782000184059143,\n",
              "  0.9787999987602234,\n",
              "  0.9787999987602234,\n",
              "  0.978600025177002]}"
            ]
          },
          "metadata": {},
          "execution_count": 18
        }
      ]
    },
    {
      "cell_type": "code",
      "source": [
        "pd.DataFrame(model.history.history).plot(figsize=(8,5))\n",
        "plt.grid(True)\n",
        "plt.gca().set_ylim(0,1)\n",
        "plt.show()"
      ],
      "metadata": {
        "colab": {
          "base_uri": "https://localhost:8080/",
          "height": 451
        },
        "id": "xFuiYdDhw9GR",
        "outputId": "10ee6026-4443-4726-8fc7-1cf13daff52b"
      },
      "execution_count": null,
      "outputs": [
        {
          "output_type": "display_data",
          "data": {
            "text/plain": [
              "<Figure size 800x500 with 1 Axes>"
            ],
            "image/png": "[encoded data removed]"
          },
          "metadata": {}
        }
      ]
    },
    {
      "cell_type": "code",
      "source": [
        "model.evaluate(x_test,y_test)"
      ],
      "metadata": {
        "colab": {
          "base_uri": "https://localhost:8080/"
        },
        "id": "vmV-RAv9zv3T",
        "outputId": "57f6357f-e346-49c8-f039-bccc0c378118"
      },
      "execution_count": null,
      "outputs": [
        {
          "output_type": "stream",
          "name": "stdout",
          "text": [
            "313/313 [==============================] - 1s 2ms/step - loss: 0.0712 - accuracy: 0.9778\n"
          ]
        },
        {
          "output_type": "execute_result",
          "data": {
            "text/plain": [
              "[0.07122249901294708, 0.9778000116348267]"
            ]
          },
          "metadata": {},
          "execution_count": 20
        }
      ]
    },
    {
      "cell_type": "code",
      "source": [
        "x_new=x_test[:3]\n",
        "y_prob=model.predict(x_new)"
      ],
      "metadata": {
        "colab": {
          "base_uri": "https://localhost:8080/"
        },
        "id": "C76bzudrz1NZ",
        "outputId": "afa7ef12-8d5f-402a-ae03-6c9a2f5d6446"
      },
      "execution_count": null,
      "outputs": [
        {
          "output_type": "stream",
          "name": "stdout",
          "text": [
            "1/1 [==============================] - 0s 104ms/step\n"
          ]
        }
      ]
    },
    {
      "cell_type": "code",
      "source": [
        "y_prob.round(3)"
      ],
      "metadata": {
        "colab": {
          "base_uri": "https://localhost:8080/"
        },
        "id": "jyiTrCjV0Aqk",
        "outputId": "3da2f884-2ab8-48c9-82dc-b95dac9e1963"
      },
      "execution_count": null,
      "outputs": [
        {
          "output_type": "execute_result",
          "data": {
            "text/plain": [
              "array([[0.   , 0.   , 0.   , 0.001, 0.   , 0.   , 0.   , 0.999, 0.   ,\n",
              "        0.   ],\n",
              "       [0.   , 0.   , 1.   , 0.   , 0.   , 0.   , 0.   , 0.   , 0.   ,\n",
              "        0.   ],\n",
              "       [0.   , 0.998, 0.   , 0.   , 0.   , 0.   , 0.   , 0.001, 0.001,\n",
              "        0.   ]], dtype=float32)"
            ]
          },
          "metadata": {},
          "execution_count": 22
        }
      ]
    },
    {
      "cell_type": "code",
      "source": [
        "y_pred=np.argmax(y_prob, axis=-1)\n",
        "y_pred"
      ],
      "metadata": {
        "colab": {
          "base_uri": "https://localhost:8080/"
        },
        "id": "KjjkaUVk0lz6",
        "outputId": "854c0aa0-0b70-45a7-f289-bb5f892edc7b"
      },
      "execution_count": null,
      "outputs": [
        {
          "output_type": "execute_result",
          "data": {
            "text/plain": [
              "array([7, 2, 1])"
            ]
          },
          "metadata": {},
          "execution_count": 23
        }
      ]
    },
    {
      "cell_type": "code",
      "source": [
        "np.array(digit_names)[y_pred]"
      ],
      "metadata": {
        "colab": {
          "base_uri": "https://localhost:8080/"
        },
        "id": "ME2u3C6Y0UtJ",
        "outputId": "778ae311-f66c-415c-a018-a263f3206f21"
      },
      "execution_count": null,
      "outputs": [
        {
          "output_type": "execute_result",
          "data": {
            "text/plain": [
              "array(['Seven', 'Two', 'One'], dtype='<U5')"
            ]
          },
          "metadata": {},
          "execution_count": 24
        }
      ]
    },
    {
      "cell_type": "code",
      "source": [
        "plt.imshow(x_test[2])"
      ],
      "metadata": {
        "colab": {
          "base_uri": "https://localhost:8080/",
          "height": 447
        },
        "id": "UzsoJqlv4Ez4",
        "outputId": "b93a978e-da94-49d9-d065-6fb1ff68b3f1"
      },
      "execution_count": null,
      "outputs": [
        {
          "output_type": "execute_result",
          "data": {
            "text/plain": [
              "<matplotlib.image.AxesImage at 0x7fd7ee986ad0>"
            ]
          },
          "metadata": {},
          "execution_count": 25
        },
        {
          "output_type": "display_data",
          "data": {
            "text/plain": [
              "<Figure size 640x480 with 1 Axes>"
            ],
            "image/png": "[encoded data removed]"
          },
          "metadata": {}
        }
      ]
    }
  ],
  "metadata": {
    "colab": {
      "provenance": []
    },
    "kernelspec": {
      "display_name": "Python 3",
      "name": "python3"
    },
    "language_info": {
      "name": "python"
    }
  },
  "nbformat": 4,
  "nbformat_minor": 0
}